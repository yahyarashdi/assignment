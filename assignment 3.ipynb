{
 "cells": [
  {
   "cell_type": "code",
   "execution_count": 10,
   "metadata": {},
   "outputs": [
    {
     "name": "stdout",
     "output_type": "stream",
     "text": [
      "\n",
      "Please type in the math operation you would like to complete:\n",
      "+ for addition\n",
      "- for subtraction\n",
      "* for multiplication\n",
      "/ for division\n",
      "** for power\n",
      "**\n",
      "Please enter the first number: 2\n",
      "Please enter the second number: 3\n",
      "2 ** 3 = \n",
      "8\n"
     ]
    }
   ],
   "source": [
    "# Define our function\n",
    "def calculate():\n",
    "    operation = input('''\n",
    "Please type in the math operation you would like to complete:\n",
    "+ for addition\n",
    "- for subtraction\n",
    "* for multiplication\n",
    "/ for division\n",
    "** for power\n",
    "''')\n",
    "\n",
    "    number_1 = int(input('Please enter the first number: '))\n",
    "    number_2 = int(input('Please enter the second number: '))\n",
    "\n",
    "    if operation == '+':\n",
    "        print('{} + {} = '.format(number_1, number_2))\n",
    "        print(number_1 + number_2)\n",
    "\n",
    "    elif operation == '-':\n",
    "        print('{} - {} = '.format(number_1, number_2))\n",
    "        print(number_1 - number_2)\n",
    "\n",
    "    elif operation == '*':\n",
    "        print('{} * {} = '.format(number_1, number_2))\n",
    "        print(number_1 * number_2)\n",
    "\n",
    "    elif operation == '/':\n",
    "        print('{} / {} = '.format(number_1, number_2))\n",
    "        print(number_1 / number_2)\n",
    "\n",
    "    elif operation == '**':\n",
    "        print('{} ** {} = '.format(number_1, number_2))\n",
    "        print(number_1 ** number_2)\n",
    "   \n",
    "    else:\n",
    "        print('You have not typed a valid operator, please run the program again.')\n",
    "\n",
    "# Call calculate() outside of the function\n",
    "calculate()"
   ]
  },
  {
   "cell_type": "code",
   "execution_count": 25,
   "metadata": {},
   "outputs": [
    {
     "name": "stdout",
     "output_type": "stream",
     "text": [
      "Checking if 4 exists in list ( using loop ) : \n",
      "Element Exists\n"
     ]
    }
   ],
   "source": [
    "# Python code to demonstrate \n",
    "# checking of element existence \n",
    "# using loops and in \n",
    "  \n",
    "# Initializing list  \n",
    "test_list = [ 1, 6, 3, 5, 3, 4 ] \n",
    "  \n",
    "print(\"Checking if 4 exists in list ( using loop ) : \") \n",
    "  \n",
    "# Checking if 4 exists in list  \n",
    "# using loop \n",
    "for i in test_list: \n",
    "    if(i == 4) : \n",
    "        print (\"Element Exists\") \n",
    "  \n",
    "\n",
    "  \n",
    " "
   ]
  },
  {
   "cell_type": "code",
   "execution_count": 28,
   "metadata": {},
   "outputs": [
    {
     "name": "stdout",
     "output_type": "stream",
     "text": [
      "{'a': 1, 'b': 2}\n",
      "{'a': 100, 'b': 2, 'c': 3, 'd': 4}\n"
     ]
    }
   ],
   "source": [
    "# a Python script to add a key to a dictionary\n",
    "\n",
    "d = {'a': 1, 'b': 2}\n",
    "print(d)\n",
    "d['a'] = 100  # existing key, so overwrite\n",
    "d['c'] = 3  # new key, so add\n",
    "d['d'] = 4\n",
    "print(d)"
   ]
  },
  {
   "cell_type": "code",
   "execution_count": 29,
   "metadata": {},
   "outputs": [
    {
     "name": "stdout",
     "output_type": "stream",
     "text": [
      "Sum : 600\n"
     ]
    }
   ],
   "source": [
    "# Python3 Program to find sum of  \n",
    "# all items in a Dictionary \n",
    "  \n",
    "# Function to print sum \n",
    "def returnSum(myDict): \n",
    "      \n",
    "    sum = 0\n",
    "    for i in myDict: \n",
    "        sum = sum + myDict[i] \n",
    "      \n",
    "    return sum\n",
    "  \n",
    "# Driver Function \n",
    "dict = {'a': 100, 'b':200, 'c':300} \n",
    "print(\"Sum :\", returnSum(dict)) "
   ]
  },
  {
   "cell_type": "code",
   "execution_count": 30,
   "metadata": {},
   "outputs": [
    {
     "name": "stdout",
     "output_type": "stream",
     "text": [
      "[20, 30, -20, 60]\n"
     ]
    }
   ],
   "source": [
    "# Python program to print  \n",
    "# duplicates from a list  \n",
    "# of integers \n",
    "def Repeat(x): \n",
    "    _size = len(x) \n",
    "    repeated = [] \n",
    "    for i in range(_size): \n",
    "        k = i + 1\n",
    "        for j in range(k, _size): \n",
    "            if x[i] == x[j] and x[i] not in repeated: \n",
    "                repeated.append(x[i]) \n",
    "    return repeated \n",
    "  \n",
    "# Driver Code \n",
    "list1 = [10, 20, 30, 20, 20, 30, 40,  \n",
    "         50, -20, 60, 60, -20, -20] \n",
    "print (Repeat(list1)) "
   ]
  },
  {
   "cell_type": "code",
   "execution_count": 32,
   "metadata": {},
   "outputs": [
    {
     "name": "stdout",
     "output_type": "stream",
     "text": [
      "Present,  value = 200\n",
      "Not present\n"
     ]
    }
   ],
   "source": [
    "# Python3 Program to check whether a  \n",
    "# given key already exists in a dictionary. \n",
    "  \n",
    "# Function to print sum \n",
    "def checkKey(dict, key): \n",
    "      \n",
    "    if key in dict.keys(): \n",
    "        print(\"Present, \", end =\" \") \n",
    "        print(\"value =\", dict[key]) \n",
    "    else: \n",
    "        print(\"Not present\") \n",
    "  \n",
    "# Driver Code \n",
    "dict = {'a': 100, 'b':200, 'c':300} \n",
    "  \n",
    "key = 'b'\n",
    "checkKey(dict, key) \n",
    "  \n",
    "key = 'w'\n",
    "checkKey(dict, key) "
   ]
  },
  {
   "cell_type": "code",
   "execution_count": null,
   "metadata": {},
   "outputs": [],
   "source": []
  }
 ],
 "metadata": {
  "kernelspec": {
   "display_name": "Python 3",
   "language": "python",
   "name": "python3"
  },
  "language_info": {
   "codemirror_mode": {
    "name": "ipython",
    "version": 3
   },
   "file_extension": ".py",
   "mimetype": "text/x-python",
   "name": "python",
   "nbconvert_exporter": "python",
   "pygments_lexer": "ipython3",
   "version": "3.7.4"
  }
 },
 "nbformat": 4,
 "nbformat_minor": 2
}
