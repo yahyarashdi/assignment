{
 "cells": [
  {
   "cell_type": "code",
   "execution_count": 9,
   "metadata": {},
   "outputs": [
    {
     "name": "stdout",
     "output_type": "stream",
     "text": [
      "Enter 'x' for exit.\n",
      "Enter marks obtained in 5 subjects: \n",
      "50\n",
      "75\n",
      "80\n",
      "90\n",
      "80\n",
      "Your Grade is B+\n"
     ]
    }
   ],
   "source": [
    "# Python Program - Calculate Grade of Student\n",
    "\n",
    "print(\"Enter 'x' for exit.\");\n",
    "print(\"Enter marks obtained in 5 subjects: \");\n",
    "mark1 = input();\n",
    "if mark1 == 'x':\n",
    "    exit();\n",
    "else:\n",
    "    mark1 = int(mark1);\n",
    "    mark2 = int(input());\n",
    "    mark3 = int(input());\n",
    "    mark4 = int(input());\n",
    "    mark5 = int(input());\n",
    "    sum = mark1 + mark2 + mark3 + mark4 + mark5;\n",
    "    average = sum/5;\n",
    "    if(average>=91 and average<=100):\n",
    "    \tprint(\"Your Grade is A+\");\n",
    "    elif(average>=81 and average<=90):\n",
    "    \tprint(\"Your Grade is A\");\n",
    "    elif(average>=71 and average<=80):\n",
    "    \tprint(\"Your Grade is B+\");\n",
    "    elif(average>=61 and average<=70):\n",
    "    \tprint(\"Your Grade is B\");\n",
    "    elif(average>=51 and average<=60):\n",
    "    \tprint(\"Your Grade is C+\");\n",
    "    elif(average>=41 and average<=50):\n",
    "    \tprint(\"Your Grade is C\");\n",
    "    elif(average>=0 and average<=40):\n",
    "    \tprint(\"Your Grade is F\");\n",
    "    else:\n",
    "    \tprint(\"Strange Grade..!!\");"
   ]
  },
  {
   "cell_type": "code",
   "execution_count": 10,
   "metadata": {},
   "outputs": [
    {
     "name": "stdout",
     "output_type": "stream",
     "text": [
      "Enter a number: 2\n",
      "This is an even number.\n"
     ]
    }
   ],
   "source": [
    "# python program to check even or odd number\n",
    "\n",
    "num = int(input(\"Enter a number: \"))\n",
    "mod = num % 2\n",
    "if mod > 0:\n",
    "    print(\"This is an odd number.\")\n",
    "else:\n",
    "    print(\"This is an even number.\")"
   ]
  },
  {
   "cell_type": "code",
   "execution_count": 11,
   "metadata": {},
   "outputs": [
    {
     "name": "stdout",
     "output_type": "stream",
     "text": [
      "length of the given list is: 5\n"
     ]
    }
   ],
   "source": [
    "# program to calculate length of the list\n",
    "list_length = [1, 3, 5, 7, 9]\n",
    "print(\"length of the given list is:\",len(list_length))\n",
    "\n",
    "\n"
   ]
  },
  {
   "cell_type": "code",
   "execution_count": 12,
   "metadata": {},
   "outputs": [
    {
     "name": "stdout",
     "output_type": "stream",
     "text": [
      "-5\n"
     ]
    }
   ],
   "source": [
    "# program to find the sum of all numbers\n",
    "\n",
    "def sum_list(items):\n",
    "    sum_numbers = 0\n",
    "    for x in items:\n",
    "        sum_numbers += x\n",
    "    return sum_numbers\n",
    "print(sum_list([1,2,-8]))"
   ]
  },
  {
   "cell_type": "code",
   "execution_count": 13,
   "metadata": {},
   "outputs": [
    {
     "name": "stdout",
     "output_type": "stream",
     "text": [
      "How many numbers: 5\n",
      "Enter number 10\n",
      "Enter number 12\n",
      "Enter number 15\n",
      "Enter number 20\n",
      "Enter number 25\n",
      "Maximum element in the list is : 25 \n",
      "Minimum element in the list is : 10\n"
     ]
    }
   ],
   "source": [
    "# program to find maximum numbers in the list\n",
    "\n",
    "lst = []\n",
    "num = int(input('How many numbers: '))\n",
    "for n in range(num):\n",
    "    numbers = int(input('Enter number '))\n",
    "    lst.append(numbers)\n",
    "print(\"Maximum element in the list is :\", max(lst), \"\\nMinimum element in the list is :\", min(lst))"
   ]
  },
  {
   "cell_type": "code",
   "execution_count": 19,
   "metadata": {},
   "outputs": [
    {
     "name": "stdout",
     "output_type": "stream",
     "text": [
      "[1, 1, 2, 3]\n"
     ]
    }
   ],
   "source": [
    "# program to check the numbers less then 5\n",
    "def elements_lessthan_five(l):\n",
    "    l1=[]\n",
    "    for i in l:\n",
    "        if i<5:\n",
    "            l1.append(i)\n",
    "            \n",
    "    return(l1)\n",
    "    \n",
    "print(elements_lessthan_five([1, 1, 2, 3, 5, 8, 13, 21, 34, 55, 89]))"
   ]
  },
  {
   "cell_type": "code",
   "execution_count": null,
   "metadata": {},
   "outputs": [],
   "source": []
  },
  {
   "cell_type": "code",
   "execution_count": null,
   "metadata": {},
   "outputs": [],
   "source": []
  }
 ],
 "metadata": {
  "kernelspec": {
   "display_name": "Python 3",
   "language": "python",
   "name": "python3"
  },
  "language_info": {
   "codemirror_mode": {
    "name": "ipython",
    "version": 3
   },
   "file_extension": ".py",
   "mimetype": "text/x-python",
   "name": "python",
   "nbconvert_exporter": "python",
   "pygments_lexer": "ipython3",
   "version": "3.7.4"
  }
 },
 "nbformat": 4,
 "nbformat_minor": 2
}
